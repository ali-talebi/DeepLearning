{
  "nbformat": 4,
  "nbformat_minor": 0,
  "metadata": {
    "colab": {
      "name": "autoencoders_mnist_datasets.ipynb",
      "provenance": [],
      "collapsed_sections": [],
      "authorship_tag": "ABX9TyNuS0aPQbWiZTa2vmDwZMvQ",
      "include_colab_link": true
    },
    "kernelspec": {
      "name": "python3",
      "display_name": "Python 3"
    },
    "language_info": {
      "name": "python"
    },
    "accelerator": "GPU"
  },
  "cells": [
    {
      "cell_type": "markdown",
      "metadata": {
        "id": "view-in-github",
        "colab_type": "text"
      },
      "source": [
        "<a href=\"https://colab.research.google.com/github/ali-talebi/DeepLearning/blob/main/autoencoders_mnist_datasets.ipynb\" target=\"_parent\"><img src=\"https://colab.research.google.com/assets/colab-badge.svg\" alt=\"Open In Colab\"/></a>"
      ]
    },
    {
      "cell_type": "code",
      "execution_count": 57,
      "metadata": {
        "id": "b-s0T_lrprsf"
      },
      "outputs": [],
      "source": [
        "import numpy as np \n",
        "import matplotlib.pyplot as plt \n",
        "import tensorflow \n",
        "from tensorflow import keras \n",
        "from keras.models import Sequential \n",
        "from keras.datasets import mnist \n",
        "from keras.layers import Dense , Conv2D , Dropout , Conv2DTranspose  , MaxPooling2D , UpSampling2D "
      ]
    },
    {
      "cell_type": "code",
      "source": [
        "(x_train , y_train  ) , (x_test , y_test ) = mnist.load_data() "
      ],
      "metadata": {
        "colab": {
          "base_uri": "https://localhost:8080/"
        },
        "id": "HNSx92DAqHcm",
        "outputId": "f8fba12a-5bf4-4593-9874-d952a4a06001"
      },
      "execution_count": 2,
      "outputs": [
        {
          "output_type": "stream",
          "name": "stdout",
          "text": [
            "Downloading data from https://storage.googleapis.com/tensorflow/tf-keras-datasets/mnist.npz\n",
            "11493376/11490434 [==============================] - 0s 0us/step\n",
            "11501568/11490434 [==============================] - 0s 0us/step\n"
          ]
        }
      ]
    },
    {
      "cell_type": "code",
      "source": [
        "x_train.shape "
      ],
      "metadata": {
        "colab": {
          "base_uri": "https://localhost:8080/"
        },
        "id": "aOSVsaNfqh2P",
        "outputId": "d964eb47-cf4b-4750-d979-0704a409235e"
      },
      "execution_count": 3,
      "outputs": [
        {
          "output_type": "execute_result",
          "data": {
            "text/plain": [
              "(60000, 28, 28)"
            ]
          },
          "metadata": {},
          "execution_count": 3
        }
      ]
    },
    {
      "cell_type": "code",
      "source": [
        "x_test.shape "
      ],
      "metadata": {
        "colab": {
          "base_uri": "https://localhost:8080/"
        },
        "id": "93VmoFd5qnqx",
        "outputId": "1c35ee65-5071-4f3a-b94e-e5f25f420b51"
      },
      "execution_count": 4,
      "outputs": [
        {
          "output_type": "execute_result",
          "data": {
            "text/plain": [
              "(10000, 28, 28)"
            ]
          },
          "metadata": {},
          "execution_count": 4
        }
      ]
    },
    {
      "cell_type": "code",
      "source": [
        "x_train = x_train.astype(\"float\") / 255.0 \n",
        "x_test  = x_test.astype(\"float\") / 255.0 "
      ],
      "metadata": {
        "id": "ymoZFnzRqo9m"
      },
      "execution_count": 5,
      "outputs": []
    },
    {
      "cell_type": "code",
      "source": [
        "plt.imshow(x_train[1] , cmap=\"gray\")\n",
        "plt.show()"
      ],
      "metadata": {
        "colab": {
          "base_uri": "https://localhost:8080/",
          "height": 265
        },
        "id": "ee91KUbCq3oc",
        "outputId": "297ff314-2f2b-4192-b16f-35452f278668"
      },
      "execution_count": 8,
      "outputs": [
        {
          "output_type": "display_data",
          "data": {
            "text/plain": [
              "<Figure size 432x288 with 1 Axes>"
            ],
            "image/png": "[encoded data removed]"
          },
          "metadata": {
            "needs_background": "light"
          }
        }
      ]
    },
    {
      "cell_type": "code",
      "source": [
        "x_denoise_train = []\n",
        "x_denoise_test  = [] "
      ],
      "metadata": {
        "id": "N3eRetX5q6iv"
      },
      "execution_count": 11,
      "outputs": []
    },
    {
      "cell_type": "code",
      "source": [
        "for i in x_train : \n",
        "  new_data = i +  np.random.rand(28,28) * 3 *  0.09\n",
        "  new_data = np.clip(new_data , 0 , 1 )\n",
        "  x_denoise_train.append(new_data)  "
      ],
      "metadata": {
        "id": "SDA0jplyrAnU"
      },
      "execution_count": 12,
      "outputs": []
    },
    {
      "cell_type": "code",
      "source": [
        "for i in x_test : \n",
        "  new_data = i +  np.random.rand(28,28) * 3 *  0.09\n",
        "  new_data = np.clip(new_data , 0 , 1 )\n",
        "  x_denoise_test.append(new_data) "
      ],
      "metadata": {
        "id": "23exYWXarApo"
      },
      "execution_count": 13,
      "outputs": []
    },
    {
      "cell_type": "code",
      "source": [
        "x_denoise_train = np.array(x_denoise_train) \n",
        "x_denoise_test  = np.array(x_denoise_test)  "
      ],
      "metadata": {
        "id": "zTDYFvBYsO9-"
      },
      "execution_count": 16,
      "outputs": []
    },
    {
      "cell_type": "code",
      "source": [
        "x_denoise_train.shape "
      ],
      "metadata": {
        "colab": {
          "base_uri": "https://localhost:8080/"
        },
        "id": "1Z4hU0iArAsA",
        "outputId": "d4fd6b70-5c27-4597-d1a1-4d502cc46ef9"
      },
      "execution_count": 17,
      "outputs": [
        {
          "output_type": "execute_result",
          "data": {
            "text/plain": [
              "(60000, 28, 28)"
            ]
          },
          "metadata": {},
          "execution_count": 17
        }
      ]
    },
    {
      "cell_type": "code",
      "source": [
        "x_denoise_test.shape "
      ],
      "metadata": {
        "colab": {
          "base_uri": "https://localhost:8080/"
        },
        "id": "4bVpfZ08sMnp",
        "outputId": "e3f3a858-81b7-4bb7-de03-128839735d0e"
      },
      "execution_count": 18,
      "outputs": [
        {
          "output_type": "execute_result",
          "data": {
            "text/plain": [
              "(10000, 28, 28)"
            ]
          },
          "metadata": {},
          "execution_count": 18
        }
      ]
    },
    {
      "cell_type": "code",
      "source": [
        "for i in range(2) : \n",
        "  plt.subplot(2 , 1 , i+1 )\n",
        "  plt.imshow(x_train[i] , cmap=\"gray\")\n",
        "  plt.show()\n",
        "  print(\"label : \" , y_train[i])\n",
        "  print(\"-\"*50)"
      ],
      "metadata": {
        "colab": {
          "base_uri": "https://localhost:8080/",
          "height": 350
        },
        "id": "hsR7VBr4socF",
        "outputId": "073b04f2-0ae7-4792-e6da-00c8bf1b45b7"
      },
      "execution_count": 21,
      "outputs": [
        {
          "output_type": "display_data",
          "data": {
            "text/plain": [
              "<Figure size 432x288 with 1 Axes>"
            ],
            "image/png": "[encoded data removed]"
          },
          "metadata": {
            "needs_background": "light"
          }
        },
        {
          "output_type": "stream",
          "name": "stdout",
          "text": [
            "label :  5\n",
            "--------------------------------------------------\n"
          ]
        },
        {
          "output_type": "display_data",
          "data": {
            "text/plain": [
              "<Figure size 432x288 with 1 Axes>"
            ],
            "image/png": "[encoded data removed]"
          },
          "metadata": {
            "needs_background": "light"
          }
        },
        {
          "output_type": "stream",
          "name": "stdout",
          "text": [
            "label :  0\n",
            "--------------------------------------------------\n"
          ]
        }
      ]
    },
    {
      "cell_type": "code",
      "source": [
        "for i in range(2) : \n",
        "  plt.subplot(2 , 1 , i+1 )\n",
        "  plt.imshow(x_denoise_train[i] , cmap=\"gray\")\n",
        "  plt.show()\n",
        "  print(\"label : \" , y_train[i])\n",
        "  print(\"-\"*50)"
      ],
      "metadata": {
        "colab": {
          "base_uri": "https://localhost:8080/",
          "height": 350
        },
        "id": "9Uwj1w5Ws8Do",
        "outputId": "5678ea00-e3c4-45ab-f751-74eed1a826fa"
      },
      "execution_count": 22,
      "outputs": [
        {
          "output_type": "display_data",
          "data": {
            "text/plain": [
              "<Figure size 432x288 with 1 Axes>"
            ],
            "image/png": "[encoded data removed]"
          },
          "metadata": {
            "needs_background": "light"
          }
        },
        {
          "output_type": "stream",
          "name": "stdout",
          "text": [
            "label :  5\n",
            "--------------------------------------------------\n"
          ]
        },
        {
          "output_type": "display_data",
          "data": {
            "text/plain": [
              "<Figure size 432x288 with 1 Axes>"
            ],
            "image/png": "[encoded data removed]"
          },
          "metadata": {
            "needs_background": "light"
          }
        },
        {
          "output_type": "stream",
          "name": "stdout",
          "text": [
            "label :  0\n",
            "--------------------------------------------------\n"
          ]
        }
      ]
    },
    {
      "cell_type": "code",
      "source": [
        "for i in range(2) : \n",
        "  plt.subplot(2 , 1 , i+1 )\n",
        "  plt.imshow(x_test[i] , cmap=\"gray\")\n",
        "  plt.show()\n",
        "  print(\"label : \" , y_test[i])\n",
        "  print(\"-\"*50)"
      ],
      "metadata": {
        "colab": {
          "base_uri": "https://localhost:8080/",
          "height": 350
        },
        "id": "M67Tm77jtOLl",
        "outputId": "055b0527-372c-4809-eb81-9f8083545061"
      },
      "execution_count": 23,
      "outputs": [
        {
          "output_type": "display_data",
          "data": {
            "text/plain": [
              "<Figure size 432x288 with 1 Axes>"
            ],
            "image/png": "[encoded data removed]"
          },
          "metadata": {
            "needs_background": "light"
          }
        },
        {
          "output_type": "stream",
          "name": "stdout",
          "text": [
            "label :  7\n",
            "--------------------------------------------------\n"
          ]
        },
        {
          "output_type": "display_data",
          "data": {
            "text/plain": [
              "<Figure size 432x288 with 1 Axes>"
            ],
            "image/png": "[encoded data removed]"
          },
          "metadata": {
            "needs_background": "light"
          }
        },
        {
          "output_type": "stream",
          "name": "stdout",
          "text": [
            "label :  2\n",
            "--------------------------------------------------\n"
          ]
        }
      ]
    },
    {
      "cell_type": "code",
      "source": [
        "for i in range(2) : \n",
        "  plt.subplot(2 , 1 , i+1 )\n",
        "  plt.imshow(x_denoise_test[i] , cmap=\"gray\")\n",
        "  plt.show()\n",
        "  print(\"label : \" , y_test[i])\n",
        "  print(\"-\"*50)"
      ],
      "metadata": {
        "colab": {
          "base_uri": "https://localhost:8080/",
          "height": 350
        },
        "id": "toBEUchvtcgC",
        "outputId": "072d0aa6-30c5-41a4-a815-f952a7537f47"
      },
      "execution_count": 24,
      "outputs": [
        {
          "output_type": "display_data",
          "data": {
            "text/plain": [
              "<Figure size 432x288 with 1 Axes>"
            ],
            "image/png": "[encoded data removed]"
          },
          "metadata": {
            "needs_background": "light"
          }
        },
        {
          "output_type": "stream",
          "name": "stdout",
          "text": [
            "label :  7\n",
            "--------------------------------------------------\n"
          ]
        },
        {
          "output_type": "display_data",
          "data": {
            "text/plain": [
              "<Figure size 432x288 with 1 Axes>"
            ],
            "image/png": "[encoded data removed]"
          },
          "metadata": {
            "needs_background": "light"
          }
        },
        {
          "output_type": "stream",
          "name": "stdout",
          "text": [
            "label :  2\n",
            "--------------------------------------------------\n"
          ]
        }
      ]
    },
    {
      "cell_type": "code",
      "source": [
        "x_denoise_train = x_denoise_train.reshape(-1 , 28,28 , 1 )\n",
        "x_denoise_test  = x_denoise_test.reshape(-1 , 28 , 28 , 1  ) "
      ],
      "metadata": {
        "id": "izd6lg3Fwr_g"
      },
      "execution_count": 30,
      "outputs": []
    },
    {
      "cell_type": "code",
      "source": [
        ""
      ],
      "metadata": {
        "id": "k1XNqrfixQrn"
      },
      "execution_count": null,
      "outputs": []
    },
    {
      "cell_type": "code",
      "source": [
        "models = Sequential([\n",
        "                     Conv2D(32 , (3,3) , activation=\"relu\" , input_shape = x_denoise_train.shape[1:]) , \n",
        "                     Conv2D(20 , (3,3) , activation=\"relu\" ) , \n",
        "                     Conv2D(10 , (3,3) , activation=\"relu\" ) , \n",
        "                     Conv2DTranspose(10 , (3,3) , activation=\"relu\") , \n",
        "                     Conv2DTranspose(20, (3,3) , activation=\"relu\" ) , \n",
        "                     Conv2DTranspose(32 , (3,3) , activation=\"relu\" ) , \n",
        "                     Conv2D(1 , (3,3) , activation=\"sigmoid\" , padding=\"same\") \n",
        "])"
      ],
      "metadata": {
        "id": "pEd15n-ytisD"
      },
      "execution_count": 31,
      "outputs": []
    },
    {
      "cell_type": "code",
      "source": [
        "models.compile(\"adam\" , loss=\"binary_crossentropy\" , metrics = \"acc\") "
      ],
      "metadata": {
        "id": "afN30GH9wdM6"
      },
      "execution_count": 32,
      "outputs": []
    },
    {
      "cell_type": "code",
      "source": [
        "x_train.shape "
      ],
      "metadata": {
        "colab": {
          "base_uri": "https://localhost:8080/"
        },
        "id": "uJQGxdTmxmY6",
        "outputId": "656f77d9-cb62-414b-d3f8-54e74e48870d"
      },
      "execution_count": 34,
      "outputs": [
        {
          "output_type": "execute_result",
          "data": {
            "text/plain": [
              "(60000, 28, 28)"
            ]
          },
          "metadata": {},
          "execution_count": 34
        }
      ]
    },
    {
      "cell_type": "code",
      "source": [
        "x_denoise_train.shape "
      ],
      "metadata": {
        "colab": {
          "base_uri": "https://localhost:8080/"
        },
        "id": "iHEDJ4LdxpTe",
        "outputId": "fa082cc7-74a8-4f4a-f451-ac72d0c6e057"
      },
      "execution_count": 35,
      "outputs": [
        {
          "output_type": "execute_result",
          "data": {
            "text/plain": [
              "(60000, 28, 28, 1)"
            ]
          },
          "metadata": {},
          "execution_count": 35
        }
      ]
    },
    {
      "cell_type": "code",
      "source": [
        "alis = models.fit(x_denoise_train , x_train , epochs = 10 , batch_size = 300 , validation_split= 0.2 )"
      ],
      "metadata": {
        "colab": {
          "base_uri": "https://localhost:8080/"
        },
        "id": "ZAHrApVsxGe2",
        "outputId": "7ac9ead3-cf26-4392-850f-de610e498f83"
      },
      "execution_count": 33,
      "outputs": [
        {
          "output_type": "stream",
          "name": "stdout",
          "text": [
            "Epoch 1/10\n",
            "160/160 [==============================] - 17s 25ms/step - loss: 0.1662 - acc: 0.8104 - val_loss: 0.0717 - val_acc: 0.8161\n",
            "Epoch 2/10\n",
            "160/160 [==============================] - 4s 23ms/step - loss: 0.0683 - acc: 0.8153 - val_loss: 0.0672 - val_acc: 0.8161\n",
            "Epoch 3/10\n",
            "160/160 [==============================] - 4s 24ms/step - loss: 0.0661 - acc: 0.8153 - val_loss: 0.0660 - val_acc: 0.8161\n",
            "Epoch 4/10\n",
            "160/160 [==============================] - 4s 24ms/step - loss: 0.0652 - acc: 0.8153 - val_loss: 0.0654 - val_acc: 0.8161\n",
            "Epoch 5/10\n",
            "160/160 [==============================] - 4s 24ms/step - loss: 0.0646 - acc: 0.8153 - val_loss: 0.0648 - val_acc: 0.8161\n",
            "Epoch 6/10\n",
            "160/160 [==============================] - 4s 25ms/step - loss: 0.0642 - acc: 0.8153 - val_loss: 0.0644 - val_acc: 0.8161\n",
            "Epoch 7/10\n",
            "160/160 [==============================] - 4s 24ms/step - loss: 0.0639 - acc: 0.8153 - val_loss: 0.0644 - val_acc: 0.8161\n",
            "Epoch 8/10\n",
            "160/160 [==============================] - 4s 26ms/step - loss: 0.0636 - acc: 0.8153 - val_loss: 0.0638 - val_acc: 0.8161\n",
            "Epoch 9/10\n",
            "160/160 [==============================] - 4s 26ms/step - loss: 0.0634 - acc: 0.8153 - val_loss: 0.0636 - val_acc: 0.8161\n",
            "Epoch 10/10\n",
            "160/160 [==============================] - 4s 24ms/step - loss: 0.0632 - acc: 0.8153 - val_loss: 0.0639 - val_acc: 0.8162\n"
          ]
        }
      ]
    },
    {
      "cell_type": "code",
      "source": [
        "models.input "
      ],
      "metadata": {
        "colab": {
          "base_uri": "https://localhost:8080/"
        },
        "id": "XYrdahyNxX_O",
        "outputId": "4ca4921c-486a-48c6-dfb7-fcec00335f80"
      },
      "execution_count": 36,
      "outputs": [
        {
          "output_type": "execute_result",
          "data": {
            "text/plain": [
              "<KerasTensor: shape=(None, 28, 28, 1) dtype=float32 (created by layer 'conv2d_4_input')>"
            ]
          },
          "metadata": {},
          "execution_count": 36
        }
      ]
    },
    {
      "cell_type": "code",
      "source": [
        "models.output"
      ],
      "metadata": {
        "colab": {
          "base_uri": "https://localhost:8080/"
        },
        "id": "_goZUaJExwOR",
        "outputId": "b56e10dc-3b4c-4d43-b3c7-6fa4aa0993fb"
      },
      "execution_count": 37,
      "outputs": [
        {
          "output_type": "execute_result",
          "data": {
            "text/plain": [
              "<KerasTensor: shape=(None, 28, 28, 1) dtype=float32 (created by layer 'conv2d_7')>"
            ]
          },
          "metadata": {},
          "execution_count": 37
        }
      ]
    },
    {
      "cell_type": "code",
      "source": [
        "y_pre  = models.predict(x_denoise_train[3:4])"
      ],
      "metadata": {
        "id": "l0-Jh5J5x0Lj"
      },
      "execution_count": 51,
      "outputs": []
    },
    {
      "cell_type": "code",
      "source": [
        "y_pre.shape "
      ],
      "metadata": {
        "colab": {
          "base_uri": "https://localhost:8080/"
        },
        "id": "ZLQUOSeZx79T",
        "outputId": "fd4bea3e-1035-4b28-b84b-ccd60bc96f37"
      },
      "execution_count": 52,
      "outputs": [
        {
          "output_type": "execute_result",
          "data": {
            "text/plain": [
              "(1, 28, 28, 1)"
            ]
          },
          "metadata": {},
          "execution_count": 52
        }
      ]
    },
    {
      "cell_type": "code",
      "source": [
        "y_pre[0].shape "
      ],
      "metadata": {
        "colab": {
          "base_uri": "https://localhost:8080/"
        },
        "id": "GK8XDfY9yI7I",
        "outputId": "6853bed3-7934-4a31-b54d-3d8fc9ead3d7"
      },
      "execution_count": 54,
      "outputs": [
        {
          "output_type": "execute_result",
          "data": {
            "text/plain": [
              "(28, 28, 1)"
            ]
          },
          "metadata": {},
          "execution_count": 54
        }
      ]
    },
    {
      "cell_type": "code",
      "source": [
        "plt.imshow(y_pre[0].reshape(28 ,28) , cmap=\"gray\")\n",
        "plt.show()"
      ],
      "metadata": {
        "colab": {
          "base_uri": "https://localhost:8080/",
          "height": 265
        },
        "id": "a0MbMYmEx9mA",
        "outputId": "30daab81-2b05-42ec-a803-9ea8c4344043"
      },
      "execution_count": 55,
      "outputs": [
        {
          "output_type": "display_data",
          "data": {
            "text/plain": [
              "<Figure size 432x288 with 1 Axes>"
            ],
            "image/png": "[encoded data removed]"
          },
          "metadata": {
            "needs_background": "light"
          }
        }
      ]
    },
    {
      "cell_type": "code",
      "source": [
        "plt.imshow(x_denoise_train[3].reshape(28 , 28 ) , cmap=\"gray\")\n",
        "plt.show()"
      ],
      "metadata": {
        "colab": {
          "base_uri": "https://localhost:8080/",
          "height": 265
        },
        "id": "xOXv56SoyOOK",
        "outputId": "19799b4c-d600-4e2e-d757-a5c5f0affb15"
      },
      "execution_count": 56,
      "outputs": [
        {
          "output_type": "display_data",
          "data": {
            "text/plain": [
              "<Figure size 432x288 with 1 Axes>"
            ],
            "image/png": "[encoded data removed]"
          },
          "metadata": {
            "needs_background": "light"
          }
        }
      ]
    },
    {
      "cell_type": "code",
      "source": [
        ""
      ],
      "metadata": {
        "id": "qUxqEFD5yppY"
      },
      "execution_count": 60,
      "outputs": []
    },
    {
      "cell_type": "code",
      "source": [
        ""
      ],
      "metadata": {
        "id": "NUj0gYHy2_UE"
      },
      "execution_count": null,
      "outputs": []
    }
  ]
}